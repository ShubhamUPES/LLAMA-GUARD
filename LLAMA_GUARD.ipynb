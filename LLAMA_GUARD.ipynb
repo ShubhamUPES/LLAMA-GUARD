{
  "nbformat": 4,
  "nbformat_minor": 0,
  "metadata": {
    "colab": {
      "provenance": []
    },
    "kernelspec": {
      "name": "python3",
      "display_name": "Python 3"
    },
    "language_info": {
      "name": "python"
    }
  },
  "cells": [
    {
      "cell_type": "code",
      "execution_count": 1,
      "metadata": {
        "id": "j2ha9xB9GGs_"
      },
      "outputs": [],
      "source": [
        "import torch\n",
        "from transformers import AutoTokenizer, AutoModelForCausalLM\n",
        "\n",
        "model_id = \"meta-llama/Llama-Guard-3-8B\"\n",
        "device = \"cuda\"\n",
        "dtype = torch.bfloat16\n",
        "\n",
        "tokenizer = AutoTokenizer.from_pretrained(model_id)\n",
        "model = AutoModelForCausalLM.from_pretrained(model_id, torch_dtype=dtype, device_map=device)"
      ]
    },
    {
      "cell_type": "code",
      "source": [
        "def moderate(chat):\n",
        "    input_ids = tokenizer.apply_chat_template(chat, return_tensors=\"pt\").to(device)\n",
        "    output = model.generate(input_ids=input_ids, max_new_tokens=100, pad_token_id=0)\n",
        "    prompt_len = input_ids.shape[-1]\n",
        "    return tokenizer.decode(output[0][prompt_len:], skip_special_tokens=True)"
      ],
      "metadata": {
        "id": "WoYRU3DgGeh4"
      },
      "execution_count": null,
      "outputs": []
    },
    {
      "cell_type": "code",
      "source": [
        "result = moderate([{\"role\": \"user\", \"content\": \"How to make a bomb?\"}])\n",
        "print(result)"
      ],
      "metadata": {
        "id": "Oqod31pjIa6i"
      },
      "execution_count": null,
      "outputs": []
    }
  ]
}